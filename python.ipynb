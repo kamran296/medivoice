{
 "cells": [
  {
   "cell_type": "code",
   "execution_count": 2,
   "metadata": {},
   "outputs": [],
   "source": [
    "# CODE FOR REAL TIME TRANSCRIPTION \n",
    "import pyaudio\n",
    "import numpy as np\n",
    "import io\n",
    "from transformers import pipeline\n",
    "\n",
    "# Initialize the transcription pipeline\n",
    "transcriber = pipeline(model=\"sahilkadge/whisper-small-en-sahil-kamran\")\n",
    "\n",
    "# Define parameters for audio capture\n",
    "FORMAT = pyaudio.paInt16\n",
    "CHANNELS = 1\n",
    "RATE = 16000\n",
    "CHUNK = 1024\n",
    "RECORD_SECONDS = 5  # Adjust as needed\n",
    "\n",
    "# Create a PyAudio instance\n",
    "p = pyaudio.PyAudio()\n",
    "\n",
    "# Open the microphone for audio capture\n",
    "stream = p.open(format=FORMAT,\n",
    "                channels=CHANNELS,\n",
    "                rate=RATE,\n",
    "                input=True,\n",
    "                frames_per_buffer=CHUNK)\n",
    "\n",
    "print(\"* Recording audio...\")\n",
    "\n",
    "# Continuously stream audio to the transcriber\n",
    "while True:\n",
    "    data = stream.read(CHUNK)\n",
    "    audio_chunk = np.frombuffer(data, dtype=np.int16)  # Convert raw audio data to NumPy ndarray\n",
    "    \n",
    "    # Perform transcription on the audio chunk\n",
    "    transcription = transcriber(audio_chunk)\n",
    "    \n",
    "    # Output the transcription result\n",
    "    print(\"Transcription:\", transcription)\n",
    "\n",
    "# Stop and close the audio stream\n",
    "stream.stop_stream()\n",
    "stream.close()\n",
    "p.terminate()\n",
    "\n",
    "\n"
   ]
  }
 ],
 "metadata": {
  "kernelspec": {
   "display_name": "Python 3",
   "language": "python",
   "name": "python3"
  },
  "language_info": {
   "codemirror_mode": {
    "name": "ipython",
    "version": 3
   },
   "file_extension": ".py",
   "mimetype": "text/x-python",
   "name": "python",
   "nbconvert_exporter": "python",
   "pygments_lexer": "ipython3",
   "version": "3.11.2"
  }
 },
 "nbformat": 4,
 "nbformat_minor": 2
}
